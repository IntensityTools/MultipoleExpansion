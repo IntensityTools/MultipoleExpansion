{
 "cells": [
  {
   "cell_type": "markdown",
   "metadata": {},
   "source": [
    "# Measuring and modelling the HI power spectrum multipoles"
   ]
  },
  {
   "cell_type": "markdown",
   "metadata": {},
   "source": [
    "This script demonstrates an overview of the `runMainMultipoles.py` script, namely how to calculate the HI power spectrum monopole and quadrupole and how to model it."
   ]
  },
  {
   "cell_type": "code",
   "execution_count": 1,
   "metadata": {},
   "outputs": [
    {
     "name": "stdout",
     "output_type": "stream",
     "text": [
      "\n",
      "Selected Cosmology: FlatLambdaCDM(name=\"Planck15\", H0=67.7 km / (Mpc s), Om0=0.307, Tcmb0=2.725 K, Neff=3.05, m_nu=[0.   0.   0.06] eV, Ob0=0.0486) \n",
      "\n"
     ]
    }
   ],
   "source": [
    "# importing necessary packages:\n",
    "import numpy as np\n",
    "from scipy import integrate\n",
    "import matplotlib.pyplot as plt\n",
    "import matplotlib\n",
    "from matplotlib.gridspec import GridSpec\n",
    "matplotlib.rcParams['text.usetex'] = True\n",
    "matplotlib.rcParams['text.latex.preamble'] = [r'\\usepackage{amsmath}'] #for \\text command\n",
    "matplotlib.rcParams['mathtext.fontset'] = 'stix'\n",
    "matplotlib.rcParams['font.family'] = 'STIXGeneral'\n",
    "\n",
    "# adding path to MultipoleExpansion directory in order to import relevant scripts\n",
    "import sys\n",
    "sys.path.append('../')\n",
    "\n",
    "# importing relevant scripts:\n",
    "import cosmotools\n",
    "import mpl_style\n",
    "plt.style.use(mpl_style.style1)\n",
    "cosmotools.SetCosmology('Planck15')\n",
    "import pktools\n",
    "import teletools\n",
    "import modellingtools\n",
    "import stattools"
   ]
  },
  {
   "cell_type": "markdown",
   "metadata": {},
   "source": [
    "## Select redshift\n",
    "\n",
    "$z = 2.03$ or $z=0.82$"
   ]
  },
  {
   "cell_type": "code",
   "execution_count": 2,
   "metadata": {},
   "outputs": [
    {
     "name": "stdout",
     "output_type": "stream",
     "text": [
      "\n",
      "Telescope Params: Dish size = 100 m, R_beam = 3.9 Mpc/h, theta_FWHM = 0.27 deg\n",
      "\n"
     ]
    }
   ],
   "source": [
    "#zeff = 2.03 #Redshift for simulation box\n",
    "zeff = 0.82 #Redshift for simulation box\n",
    "\n",
    "# survey & cosmological parameters for modelling:\n",
    "\n",
    "H_0 = cosmotools.H(0)\n",
    "h = H_0 / 100\n",
    "Tbar = teletools.TbarModel(zeff) #mK\n",
    "d_c = cosmotools.D_com(zeff)\n",
    "if zeff==0.82:\n",
    "    b_HI = 1.15\n",
    "    P_SN = Tbar**2*124 #From https://arxiv.org/pdf/1804.09180.pdf (Table 5)\n",
    "    theta_FWHM,R_beam = teletools.getbeampars(zeff,d_c)\n",
    "    sig_v = 250*h\n",
    "if zeff==2.03:\n",
    "    b_HI = 1.95\n",
    "    P_SN = Tbar**2*65 #From https://arxiv.org/pdf/1804.09180.pdf (Table 5)\n",
    "    theta_FWHM,R_beam = teletools.getbeampars(zeff,d_c)\n",
    "    sig_v = 0\n",
    "ffid = cosmotools.f(zeff)\n",
    "B = ffid / b_HI"
   ]
  },
  {
   "cell_type": "markdown",
   "metadata": {},
   "source": [
    "## Measuring the power spectrum"
   ]
  },
  {
   "cell_type": "markdown",
   "metadata": {},
   "source": [
    "The below outlines how to calculate the HI power spectrum for the monopole and quadrupole, using MultiDark simulations."
   ]
  },
  {
   "cell_type": "code",
   "execution_count": 3,
   "metadata": {},
   "outputs": [],
   "source": [
    "# Dimension of data cube:\n",
    "lx,ly,lz = 1000,1000,1000 #Mpc/h\n",
    "nx,ny,nz = 225,225,225\n",
    "lzbuff = 119 #Used to achieve a lz=762Mpc/h which is ~Deltaz=0.4 at zeff=0.8\n",
    "xbins = np.linspace(0,lx,nx+1) #cartesian-z pixel bins\n",
    "ybins = np.linspace(0,ly,ny+1) #cartesian-z pixel bins\n",
    "lz = lz - 2*lzbuff"
   ]
  },
  {
   "cell_type": "code",
   "execution_count": 4,
   "metadata": {},
   "outputs": [],
   "source": [
    "# Read-in and Process HI maps\n",
    "dT_HI = np.load('../MultiDarkSims/dT_HI-MDSAGE_z_%s.npy'%zeff)\n",
    "xbincentres = xbins+(xbins[1]-xbins[0])/2\n",
    "xbincentres = xbincentres[:len(xbincentres)-1] #remove last value since this is outside of bins\n",
    "ybincentres = ybins+(ybins[1]-ybins[0])/2\n",
    "ybincentres = ybincentres[:len(ybincentres)-1] #remove last value since this is outside of bins\n",
    "for i in range(nz):\n",
    "    dT_HI[:,:,i] = teletools.smoothimage(dT_HI[:,:,i],0,0,lx,ly,xbincentres,ybincentres,R_beam)\n",
    "dv = 1e6 #Hz (1MHz freq bin width) - use for noise map\n",
    "dT_noise1,sigma_N = teletools.ReceiverNoise(zeff,dv,d_c,nx,ny,nz,lx,ly,theta_FWHM)\n",
    "dT_noise2,sigma_N = teletools.ReceiverNoise(zeff,dv,d_c,nx,ny,nz,lx,ly,theta_FWHM)\n",
    "dT_HI1 = dT_HI + dT_noise1\n",
    "dT_HI2 = dT_HI + dT_noise2"
   ]
  },
  {
   "cell_type": "code",
   "execution_count": 5,
   "metadata": {},
   "outputs": [],
   "source": [
    "# Measure the auto-power spectrum\n",
    "kmin,kmax = 0.02,0.3\n",
    "nkbin = 29\n",
    "dk = (kmax-kmin)/nkbin\n",
    "k = np.linspace(kmin+0.5*dk,kmax-0.5*dk,nkbin)\n",
    "pkspec = pktools.getpkspec(dT_HI1,dT_HI2,nx,ny,nz,lx,ly,lz,kmin,kmax,nkbin)\n",
    "W = pktools.W_alias(nx,ny,nz,lx,ly,lz,p=1)\n",
    "pkspec = pkspec/W**2  # Correct for aliasing\n",
    "# perform multipole expansion on power spectrum:\n",
    "pkmults, nmodes = pktools.binpole(pkspec,nx,ny,nz,lx,ly,lz,kmin,kmax,nkbin)"
   ]
  },
  {
   "cell_type": "code",
   "execution_count": 6,
   "metadata": {},
   "outputs": [],
   "source": [
    "# obtain theory errors\n",
    "vol_cell = lx*ly*lz / (nx*ny*nz)\n",
    "P_N = sigma_N**2 * vol_cell\n",
    "sig_pl = stattools.MultipoleError(P_N,pkmults[0],pkmults[1],pkmults[2],nmodes)"
   ]
  },
  {
   "cell_type": "markdown",
   "metadata": {},
   "source": [
    "## Modelling the power spectrum"
   ]
  },
  {
   "cell_type": "markdown",
   "metadata": {},
   "source": [
    "The below outlines how to calculate the model HI power spectrum for the monopole and quadrupole."
   ]
  },
  {
   "cell_type": "code",
   "execution_count": 7,
   "metadata": {},
   "outputs": [],
   "source": [
    "# underlying linear matter power spectrum\n",
    "kmod,Pmod = np.load('../inputs/Pk_z=%s.npy'%zeff)"
   ]
  },
  {
   "cell_type": "code",
   "execution_count": 8,
   "metadata": {},
   "outputs": [],
   "source": [
    "# damping function for beam:\n",
    "def B_beam(mu,k,R_beam):\n",
    "    return np.exp( -(1-mu**2)*k**2*R_beam**2/2 )\n",
    "# Anisotropic power spectrum and Legendre polynomials:\n",
    "def P(k,mu,b,B,sig_v,Pk_M,i):\n",
    "    return b**2 * (1 + B*mu**2)**2 / (1 + (k*mu*sig_v/H_0)**2) * Pk_M[i]\n",
    "def Leg0(mu):\n",
    "    return 1\n",
    "def Leg2(mu):\n",
    "    return (3*mu**2 - 1) / 2\n",
    "\n",
    "# modelling function:\n",
    "def MultipoleExpansion(Pk_M,kmod,b,B,sig_v,P_SN,R_beam):\n",
    "    #Define Parameters and multipoles:\n",
    "    theta = np.radians( np.linspace(-180,180,10000) )\n",
    "    mu = np.cos(theta)\n",
    "    PL0 = lambda mu: 1/2 * P(k_i,mu,b,B,sig_v,Pk_M,i) * B_beam(mu,k_i,R_beam)**2 * Leg0(mu)\n",
    "    PL2 = lambda mu: 5/2 * P(k_i,mu,b,B,sig_v,Pk_M,i) * B_beam(mu,k_i,R_beam)**2 * Leg2(mu)\n",
    "    PSN0 = lambda mu: 1/2 * P_SN * B_beam(mu,k_i,R_beam)**2 * Leg0(mu)\n",
    "    PSN2 = lambda mu: 5/2 * P_SN * B_beam(mu,k_i,R_beam)**2 * Leg2(mu)\n",
    "    P_0 = np.zeros(len(kmod)); P_2 = np.zeros(len(kmod))\n",
    "    PSN_0 = np.zeros(len(kmod)); PSN_2 = np.zeros(len(kmod))\n",
    "    for i in range(len(kmod)):\n",
    "        k_i = kmod[i]\n",
    "        if k_i==0: k_i = 1e-30 #Avoid divide by k=0\n",
    "        P_0[i] = integrate.quad(PL0, -1, 1)[0]\n",
    "        P_2[i] = integrate.quad(PL2, -1, 1)[0]\n",
    "        PSN_0[i] = integrate.quad(PSN0, -1, 1)[0]\n",
    "        PSN_2[i] = integrate.quad(PSN2, -1, 1)[0]\n",
    "    return P_0+PSN_0,P_2+PSN_2"
   ]
  },
  {
   "cell_type": "code",
   "execution_count": 13,
   "metadata": {},
   "outputs": [],
   "source": [
    "# calculating power spectrum model:\n",
    "pk0mod,pk2mod = MultipoleExpansion(Pmod,kmod,b_HI,B,sig_v,P_SN,R_beam)\n",
    "pkmultsmods = [pk0mod,pk2mod]\n",
    "\n",
    "#in the runMainMultipoles.py script this is done as below, and gives the same results as above!\n",
    "#pk0mod,pk2mod,pk4mod = modellingtools.MultipoleExpansion(Pmod,kmod,b_HI,B,P_SN,R_beam,sig_v,doFG=False,noRSD=False)\n",
    "#pkmultsmods = [pk0mod,pk2mod,pk4mod]"
   ]
  },
  {
   "cell_type": "code",
   "execution_count": 14,
   "metadata": {},
   "outputs": [
    {
     "data": {
      "image/png": "[encoded data removed]",
      "text/plain": [
       "<Figure size 864x432 with 2 Axes>"
      ]
     },
     "metadata": {
      "needs_background": "light"
     },
     "output_type": "display_data"
    }
   ],
   "source": [
    "# plot multipoles\n",
    "\n",
    "kmax = 0.3\n",
    "fontsize = 25\n",
    "plt.figure(figsize=(12,6))\n",
    "for i in range(2):\n",
    "    plt.subplot(121+i)\n",
    "    # if including error:\n",
    "    plt.errorbar(k, k*pkmults[i], yerr=k*sig_pl[i], fmt='x',capsize=5, markersize=6, label='No FG (Sim)',color='Black')\n",
    "    plt.plot(kmod,kmod*Tbar**2*pkmultsmods[i],linestyle='dashed',color='Black',label='No FG (Mod)')\n",
    "    plt.xticks([0,0.1,0.2,0.3])\n",
    "    plt.xlabel(r'$k \\, [h \\, {\\rm Mpc}^{-1}]$',fontsize=fontsize)\n",
    "    plt.ylabel(r'$k \\,P_{%s}(k) \\, $[mK$^2\\,h^{-2} \\, {\\rm Mpc}^2$]'%(i*2),fontsize=fontsize)\n",
    "    plt.tick_params(labelsize=fontsize-2)\n",
    "    if i==1: plt.legend(ncol=4,loc='upper center',bbox_to_anchor=[0.43, 1.17],fontsize=fontsize-5)\n",
    "    plt.tick_params(labelsize=fontsize-6)\n",
    "    plt.xlim(left=0,right=kmax)\n",
    "plt.subplots_adjust(top=0.9,\n",
    "bottom=0.15,\n",
    "left=0.08,\n",
    "right=0.985,\n",
    "hspace=0.2,\n",
    "wspace=0.375)\n",
    "plt.show()"
   ]
  }
 ],
 "metadata": {
  "kernelspec": {
   "display_name": "Python 3",
   "language": "python",
   "name": "python3"
  },
  "language_info": {
   "codemirror_mode": {
    "name": "ipython",
    "version": 3
   },
   "file_extension": ".py",
   "mimetype": "text/x-python",
   "name": "python",
   "nbconvert_exporter": "python",
   "pygments_lexer": "ipython3",
   "version": "3.6.0"
  }
 },
 "nbformat": 4,
 "nbformat_minor": 2
}
